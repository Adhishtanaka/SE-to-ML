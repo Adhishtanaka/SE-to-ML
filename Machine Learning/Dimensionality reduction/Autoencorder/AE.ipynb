{
 "cells": [
  {
   "cell_type": "markdown",
   "id": "ebc7285b",
   "metadata": {},
   "source": [
    "### Autoencoders\n",
    "\n",
    "An autoencoder is a type of neural network designed to learn efficient encodings of input data in an unsupervised manner. The architecture consists of two main components: an encoder that compresses the input into a lower-dimensional latent representation (bottleneck), and a decoder that reconstructs the original input from this compressed representation.\n",
    "\n",
    "The process begins with an input layer accepting raw data. The encoder, typically composed of several layers whose dimensions progressively decrease, transforms this input into a compact latent representation. This bottleneck layer forces the network to learn the most salient features of the data. The decoder, mirroring the encoder's architecture but in reverse, then attempts to reconstruct the original input from this compressed representation. The network is trained by minimizing the reconstruction error between the original input and the decoder's output.\n",
    "\n",
    "Autoencoders learn through backpropagation, using the input data as both the input and the target output. During training, the network learns to preserve the most important information while discarding noise and redundancies. This dimensionality reduction capability makes autoencoders powerful tools for feature learning, data compression, noise reduction, anomaly detection, and generative modeling.\n",
    "\n",
    "#### Pros\n",
    "- **Unsupervised learning** - requires no labeled data\n",
    "- **Effective dimensionality reduction** that captures complex non-linear relationships \n",
    "- **Noise filtering** capabilities through reconstruction\n",
    "- **Feature extraction** that automatically identifies important patterns\n",
    "- **Versatile architecture** adaptable to various data types (images, text, time series)\n",
    "- **Foundation for generative models** like VAEs and adversarial autoencoders\n",
    "- **Anomaly detection** through reconstruction error\n",
    "\n",
    "#### Cons\n",
    "- **Lack of interpretability** in learned latent representations\n",
    "- **Non-unique representations** - different initializations can lead to different encodings\n",
    "- **Limited to patterns present in training data** - poor generalization to very different data\n",
    "- **Computationally intensive** for high-dimensional data\n",
    "- **May learn identity function** if model capacity is too high relative to task difficulty\n",
    "- **Requires careful architecture design** to avoid trivial solutions\n",
    "- **No guarantee of useful feature learning** without proper constraints\n",
    "\n",
    "#### Key Components & Concepts\n",
    "\n",
    "##### Encoder-Decoder Configurations\n",
    "\n",
    "The structure of encoder and decoder components affects the autoencoder's capabilities.\n",
    "\n",
    "| Component | Typical Architectures | Parameters | Design Considerations |\n",
    "|-----------|------------------------|------------|----------------------|\n",
    "| Encoder | Fully-connected layers, CNNs, RNNs | Number of layers, neuron count, activation functions | Progressive reduction in layer dimensions |\n",
    "| Bottleneck | Single layer (dense or conv) | Latent dimension size | Trade-off between compression and reconstruction quality |\n",
    "| Decoder | Mirror of encoder (reversed) | Matching encoder architecture | Symmetry often helps training |\n",
    "| Skip Connections | Optional connections between corresponding layers | Connection type (concatenation, addition) | Helps with gradient flow in deep autoencoders |\n",
    "\n",
    "##### Autoencoder Design for Different Data Types\n",
    "\n",
    "Autoencoders can be adapted for various types of data by modifying their architecture.\n",
    "\n",
    "| Data Type | Encoder/Decoder Architecture | Bottleneck Design | Loss Function | Example Applications |\n",
    "|-----------|------------------------------|-------------------|---------------|---------------------|\n",
    "| Images | Convolutional layers | 2D/3D latent space | MSE, perceptual loss | Image compression, denoising |\n",
    "| Text | RNNs, Transformers | Sequential latent state | Categorical cross-entropy | Document clustering, topic modeling |\n",
    "| Time Series | 1D CNNs, LSTMs | Temporal latent codes | MSE with temporal penalty | Anomaly detection, forecasting |\n",
    "| Audio | 1D CNNs, spectrogram + 2D CNNs | Multi-scale representation | Spectrogram loss, waveform loss | Audio generation, noise reduction |\n",
    "| Graph Data | Graph convolutional networks | Node embeddings | Link prediction loss | Node classification, link prediction |\n",
    "| Tabular Data | Fully connected layers | Low-dimensional vector | MSE, BCE with feature weighting | Anomaly detection, imputation |\n",
    "\n",
    "#### Implementation Concepts\n",
    "\n",
    "##### Loss Functions for Autoencoders\n",
    "\n",
    "The choice of loss function depends on data type and application goals.\n",
    "\n",
    "| Loss Function | Formula (Simplified) | Best For | Considerations |\n",
    "|---------------|----------------------|----------|---------------|\n",
    "| Mean Squared Error | MSE = mean((x - x̂)²) | Continuous data, preserving magnitude | Sensitive to outliers |\n",
    "| Binary Cross-Entropy | BCE = -mean(x·log(x̂) + (1-x)·log(1-x̂)) | Binary data, image pixels in [0,1] | Works well with sigmoid activation |\n",
    "| Kullback-Leibler | KL = sum(p·log(p/q)) | Enforcing latent distribution | Used as regularization term |\n",
    "| Structural Similarity | SSIM-based metrics | Image quality preservation | Better aligned with human perception |\n",
    "| Perceptual Loss | Feature-space distance | High-quality image reconstruction | Uses pre-trained network features |\n",
    "| Adversarial Loss | From discriminator network | Realistic reconstruction | Complex training dynamics |\n",
    "\n",
    "##### Activation Functions\n",
    "\n",
    "Different activation functions serve different purposes in autoencoders.\n",
    "\n",
    "| Layer | Common Activations | Rationale | Considerations |\n",
    "|-------|-------------------|-----------|---------------|\n",
    "| Hidden Layers | ReLU, LeakyReLU | Non-linearity, avoids vanishing gradient | Dead neurons with ReLU |\n",
    "| Bottleneck | Linear, tanh, sigmoid | Depends on desired latent properties | Linear for VAEs, bounded for others |\n",
    "| Output Layer | Sigmoid, tanh, linear | Should match input data range | Sigmoid for [0,1], tanh for [-1,1], linear for unbounded |\n",
    "\n",
    "#### Tips and Tricks for Effective Autoencoders\n",
    "\n",
    "| Tip | Why It Helps | Implementation |\n",
    "|-----|--------------|----------------|\n",
    "| Symmetric architecture | Better gradient flow, easier optimization | Mirror encoder layers in decoder |\n",
    "| Batch normalization | Stabilizes training, especially in deep architectures | Add after activation functions |\n",
    "| Tied weights | Reduces parameter count, improves regularization | Set decoder weights as transpose of encoder weights |\n",
    "| Progressive training | Better optimization for complex architectures | Train shallow autoencoder first, add layers gradually |\n",
    "| Warm-up period | Prevents posterior collapse in VAEs | Start with pure reconstruction loss, gradually add KL term |\n",
    "| Perceptual loss | Better quality for image autoencoders | Use features from pre-trained networks for loss calculation |\n",
    "| Residual connections | Helps training deeper architectures | Add skip connections between corresponding encoder-decoder layers |\n",
    "| Learning rate schedule | Improves convergence | Reduce learning rate on plateau of validation loss |\n",
    "| Multiple bottlenecks | Hierarchical feature learning | Create ladder-like structure with multiple latent representations |\n",
    "| Multi-scale architectures | Captures features at different levels | Process and combine features from different levels of abstraction |\n"
   ]
  },
  {
   "cell_type": "code",
   "execution_count": 31,
   "id": "7fba3eed",
   "metadata": {},
   "outputs": [
    {
     "name": "stdout",
     "output_type": "stream",
     "text": [
      "Note: you may need to restart the kernel to use updated packages.\n"
     ]
    },
    {
     "name": "stderr",
     "output_type": "stream",
     "text": [
      "\n",
      "[notice] A new release of pip is available: 24.3.1 -> 25.1.1\n",
      "[notice] To update, run: python.exe -m pip install --upgrade pip\n"
     ]
    }
   ],
   "source": [
    "%pip install --quiet tensorflow pandas scikit-learn matplotlib\n",
    "\n",
    "import numpy as np\n",
    "import tensorflow as tf\n",
    "from tensorflow.keras import layers, models,Input,datasets\n",
    "import matplotlib.pyplot as plt\n"
   ]
  },
  {
   "cell_type": "code",
   "execution_count": 32,
   "id": "4e67c3c2",
   "metadata": {},
   "outputs": [],
   "source": [
    "(x_train, _), (x_test, _) = datasets.mnist.load_data()\n",
    "x_train = x_train.astype(\"float32\") / 255.0\n",
    "x_test = x_test.astype(\"float32\") / 255.0\n",
    "x_train = x_train.reshape(-1, 28 * 28)  # Flatten images to 784-dimensional vectors\n",
    "x_test = x_test.reshape(-1, 28 * 28)    # Flatten images to 784-dimensional vectors\n"
   ]
  },
  {
   "cell_type": "code",
   "execution_count": 33,
   "id": "64090f19",
   "metadata": {},
   "outputs": [],
   "source": [
    "#dense autoencoder\n",
    "input_img = Input(shape=(28 * 28,))\n",
    "\n",
    "# Define the encoder to compress the input images \n",
    "encoded = layers.Dense(128, activation='relu')(input_img)\n",
    "encoded = layers.Dense(64, activation='relu')(encoded)\n",
    "\n",
    "# Define the decoder to reconstruct the images\n",
    "decoded = layers.Dense(128, activation='relu')(encoded)\n",
    "decoded = layers.Dense(28 * 28, activation='sigmoid')(decoded)\n",
    "\n",
    "autoencoder = models.Model(input_img, decoded)"
   ]
  },
  {
   "cell_type": "code",
   "execution_count": 34,
   "id": "8bc9a7e2",
   "metadata": {},
   "outputs": [
    {
     "name": "stdout",
     "output_type": "stream",
     "text": [
      "Epoch 1/10\n",
      "\u001b[1m235/235\u001b[0m \u001b[32m━━━━━━━━━━━━━━━━━━━━\u001b[0m\u001b[37m\u001b[0m \u001b[1m4s\u001b[0m 11ms/step - loss: 0.3206 - val_loss: 0.1396\n",
      "Epoch 2/10\n",
      "\u001b[1m235/235\u001b[0m \u001b[32m━━━━━━━━━━━━━━━━━━━━\u001b[0m\u001b[37m\u001b[0m \u001b[1m2s\u001b[0m 10ms/step - loss: 0.1310 - val_loss: 0.1104\n",
      "Epoch 3/10\n",
      "\u001b[1m235/235\u001b[0m \u001b[32m━━━━━━━━━━━━━━━━━━━━\u001b[0m\u001b[37m\u001b[0m \u001b[1m2s\u001b[0m 9ms/step - loss: 0.1090 - val_loss: 0.1005\n",
      "Epoch 4/10\n",
      "\u001b[1m235/235\u001b[0m \u001b[32m━━━━━━━━━━━━━━━━━━━━\u001b[0m\u001b[37m\u001b[0m \u001b[1m3s\u001b[0m 11ms/step - loss: 0.1003 - val_loss: 0.0955\n",
      "Epoch 5/10\n",
      "\u001b[1m235/235\u001b[0m \u001b[32m━━━━━━━━━━━━━━━━━━━━\u001b[0m\u001b[37m\u001b[0m \u001b[1m2s\u001b[0m 10ms/step - loss: 0.0960 - val_loss: 0.0919\n",
      "Epoch 6/10\n",
      "\u001b[1m235/235\u001b[0m \u001b[32m━━━━━━━━━━━━━━━━━━━━\u001b[0m\u001b[37m\u001b[0m \u001b[1m2s\u001b[0m 10ms/step - loss: 0.0923 - val_loss: 0.0892\n",
      "Epoch 7/10\n",
      "\u001b[1m235/235\u001b[0m \u001b[32m━━━━━━━━━━━━━━━━━━━━\u001b[0m\u001b[37m\u001b[0m \u001b[1m2s\u001b[0m 9ms/step - loss: 0.0895 - val_loss: 0.0871\n",
      "Epoch 8/10\n",
      "\u001b[1m235/235\u001b[0m \u001b[32m━━━━━━━━━━━━━━━━━━━━\u001b[0m\u001b[37m\u001b[0m \u001b[1m2s\u001b[0m 10ms/step - loss: 0.0876 - val_loss: 0.0853\n",
      "Epoch 9/10\n",
      "\u001b[1m235/235\u001b[0m \u001b[32m━━━━━━━━━━━━━━━━━━━━\u001b[0m\u001b[37m\u001b[0m \u001b[1m3s\u001b[0m 11ms/step - loss: 0.0861 - val_loss: 0.0841\n",
      "Epoch 10/10\n",
      "\u001b[1m235/235\u001b[0m \u001b[32m━━━━━━━━━━━━━━━━━━━━\u001b[0m\u001b[37m\u001b[0m \u001b[1m2s\u001b[0m 10ms/step - loss: 0.0849 - val_loss: 0.0831\n"
     ]
    },
    {
     "data": {
      "text/plain": [
       "<keras.src.callbacks.history.History at 0x24594066db0>"
      ]
     },
     "execution_count": 34,
     "metadata": {},
     "output_type": "execute_result"
    }
   ],
   "source": [
    "autoencoder.compile(optimizer='adam', loss='binary_crossentropy')\n",
    "\n",
    "autoencoder.fit(x_train, x_train,\n",
    "                epochs=10,\n",
    "                batch_size=256,\n",
    "                shuffle=True,\n",
    "                validation_data=(x_test, x_test))"
   ]
  },
  {
   "cell_type": "code",
   "execution_count": 35,
   "id": "b2dfed3c",
   "metadata": {},
   "outputs": [
    {
     "name": "stdout",
     "output_type": "stream",
     "text": [
      "\u001b[1m313/313\u001b[0m \u001b[32m━━━━━━━━━━━━━━━━━━━━\u001b[0m\u001b[37m\u001b[0m \u001b[1m1s\u001b[0m 2ms/step\n"
     ]
    }
   ],
   "source": [
    "decoded_imgsa = autoencoder.predict(x_test)"
   ]
  },
  {
   "cell_type": "code",
   "execution_count": 36,
   "id": "7cfb0c44",
   "metadata": {},
   "outputs": [],
   "source": [
    "(x_train, _), (x_test, _) = datasets.mnist.load_data()\n",
    "x_train = x_train.astype(\"float32\") / 255.0\n",
    "x_test = x_test.astype(\"float32\") / 255.0\n",
    "\n",
    "# Add channel dimension: (batch_size, 28, 28) → (batch_size, 28, 28, 1)\n",
    "x_train = np.expand_dims(x_train, axis=-1)\n",
    "x_test = np.expand_dims(x_test, axis=-1)"
   ]
  },
  {
   "cell_type": "code",
   "execution_count": 37,
   "id": "888051ad",
   "metadata": {},
   "outputs": [],
   "source": [
    "#convolutional autoencoder\n",
    "\n",
    "input_img = Input(shape=(28, 28, 1))\n",
    "# Encoder\n",
    "x = layers.Conv2D(32, (3, 3), activation='relu', padding='same')(input_img)\n",
    "x = layers.MaxPooling2D((2, 2), padding='same')(x)\n",
    "x = layers.Conv2D(16, (3, 3), activation='relu', padding='same')(x)\n",
    "x = layers.MaxPooling2D((2, 2), padding='same')(x)\n",
    "\n",
    "# Decoder\n",
    "x = layers.Conv2D(16, (3, 3), activation='relu', padding='same')(x)\n",
    "x = layers.UpSampling2D((2, 2))(x)\n",
    "x = layers.Conv2D(32, (3, 3), activation='relu', padding='same')(x)\n",
    "x = layers.UpSampling2D((2, 2))(x)\n",
    "decoded = layers.Conv2D(1, (3, 3), activation='sigmoid', padding='same')(x)\n"
   ]
  },
  {
   "cell_type": "code",
   "execution_count": 38,
   "id": "2aee9af8",
   "metadata": {},
   "outputs": [
    {
     "name": "stdout",
     "output_type": "stream",
     "text": [
      "Epoch 1/10\n",
      "\u001b[1m469/469\u001b[0m \u001b[32m━━━━━━━━━━━━━━━━━━━━\u001b[0m\u001b[37m\u001b[0m \u001b[1m20s\u001b[0m 35ms/step - loss: 0.2196 - val_loss: 0.0783\n",
      "Epoch 2/10\n",
      "\u001b[1m469/469\u001b[0m \u001b[32m━━━━━━━━━━━━━━━━━━━━\u001b[0m\u001b[37m\u001b[0m \u001b[1m16s\u001b[0m 34ms/step - loss: 0.0776 - val_loss: 0.0740\n",
      "Epoch 3/10\n",
      "\u001b[1m469/469\u001b[0m \u001b[32m━━━━━━━━━━━━━━━━━━━━\u001b[0m\u001b[37m\u001b[0m \u001b[1m15s\u001b[0m 33ms/step - loss: 0.0741 - val_loss: 0.0720\n",
      "Epoch 4/10\n",
      "\u001b[1m469/469\u001b[0m \u001b[32m━━━━━━━━━━━━━━━━━━━━\u001b[0m\u001b[37m\u001b[0m \u001b[1m14s\u001b[0m 31ms/step - loss: 0.0724 - val_loss: 0.0709\n",
      "Epoch 5/10\n",
      "\u001b[1m469/469\u001b[0m \u001b[32m━━━━━━━━━━━━━━━━━━━━\u001b[0m\u001b[37m\u001b[0m \u001b[1m14s\u001b[0m 30ms/step - loss: 0.0713 - val_loss: 0.0701\n",
      "Epoch 6/10\n",
      "\u001b[1m469/469\u001b[0m \u001b[32m━━━━━━━━━━━━━━━━━━━━\u001b[0m\u001b[37m\u001b[0m \u001b[1m14s\u001b[0m 30ms/step - loss: 0.0705 - val_loss: 0.0695\n",
      "Epoch 7/10\n",
      "\u001b[1m469/469\u001b[0m \u001b[32m━━━━━━━━━━━━━━━━━━━━\u001b[0m\u001b[37m\u001b[0m \u001b[1m15s\u001b[0m 32ms/step - loss: 0.0699 - val_loss: 0.0689\n",
      "Epoch 8/10\n",
      "\u001b[1m469/469\u001b[0m \u001b[32m━━━━━━━━━━━━━━━━━━━━\u001b[0m\u001b[37m\u001b[0m \u001b[1m15s\u001b[0m 31ms/step - loss: 0.0692 - val_loss: 0.0684\n",
      "Epoch 9/10\n",
      "\u001b[1m469/469\u001b[0m \u001b[32m━━━━━━━━━━━━━━━━━━━━\u001b[0m\u001b[37m\u001b[0m \u001b[1m15s\u001b[0m 33ms/step - loss: 0.0689 - val_loss: 0.0679\n",
      "Epoch 10/10\n",
      "\u001b[1m469/469\u001b[0m \u001b[32m━━━━━━━━━━━━━━━━━━━━\u001b[0m\u001b[37m\u001b[0m \u001b[1m17s\u001b[0m 36ms/step - loss: 0.0684 - val_loss: 0.0678\n"
     ]
    },
    {
     "data": {
      "text/plain": [
       "<keras.src.callbacks.history.History at 0x245a749a4e0>"
      ]
     },
     "execution_count": 38,
     "metadata": {},
     "output_type": "execute_result"
    }
   ],
   "source": [
    "cautoencoder = models.Model(input_img, decoded)\n",
    "cautoencoder.compile(optimizer='adam', loss='binary_crossentropy')\n",
    "\n",
    "# Train the model\n",
    "cautoencoder.fit(x_train, x_train,\n",
    "                epochs=10,\n",
    "                batch_size=128,\n",
    "                shuffle=True,\n",
    "                validation_data=(x_test, x_test))\n"
   ]
  },
  {
   "cell_type": "code",
   "execution_count": 39,
   "id": "e8657ab1",
   "metadata": {},
   "outputs": [
    {
     "name": "stdout",
     "output_type": "stream",
     "text": [
      "\u001b[1m313/313\u001b[0m \u001b[32m━━━━━━━━━━━━━━━━━━━━\u001b[0m\u001b[37m\u001b[0m \u001b[1m2s\u001b[0m 5ms/step\n"
     ]
    }
   ],
   "source": [
    "decoded_imgs = cautoencoder.predict(x_test)"
   ]
  },
  {
   "cell_type": "code",
   "execution_count": 41,
   "id": "6cb7f7ed",
   "metadata": {},
   "outputs": [
    {
     "data": {
      "image/png": "[encoded data removed]",
      "text/plain": [
       "<Figure size 2000x600 with 30 Axes>"
      ]
     },
     "metadata": {},
     "output_type": "display_data"
    }
   ],
   "source": [
    "n = 10\n",
    "plt.figure(figsize=(20, 6))\n",
    "for i in range(n):\n",
    "    # Original Image\n",
    "    ax = plt.subplot(3, n, i + 1)\n",
    "    plt.imshow(x_test[i].reshape(28, 28))\n",
    "    plt.text(0, 0, \"Original\", color='red', fontsize=10, ha='left', va='top')\n",
    "    plt.axis('off')\n",
    "\n",
    "    # Reconstructed Image using Dense Autoencoder\n",
    "    ax = plt.subplot(3, n, i + 1 + n)\n",
    "    plt.imshow(decoded_imgsa[i].reshape(28, 28))\n",
    "    plt.text(0, 0, \"Dense AE\", color='red', fontsize=10, ha='left', va='top')\n",
    "    plt.axis('off')\n",
    "\n",
    "    # Reconstructed Image using Convolutional Autoencoder\n",
    "    ax = plt.subplot(3, n, i + 1 + 2 * n)\n",
    "    plt.imshow(decoded_imgs[i].reshape(28, 28))\n",
    "    plt.text(0, 0, \"Conv AE\", color='red', fontsize=10, ha='left', va='top')\n",
    "    plt.axis('off')\n",
    "\n",
    "plt.tight_layout()\n",
    "plt.show()"
   ]
  }
 ],
 "metadata": {
  "kernelspec": {
   "display_name": "Python 3",
   "language": "python",
   "name": "python3"
  },
  "language_info": {
   "codemirror_mode": {
    "name": "ipython",
    "version": 3
   },
   "file_extension": ".py",
   "mimetype": "text/x-python",
   "name": "python",
   "nbconvert_exporter": "python",
   "pygments_lexer": "ipython3",
   "version": "3.12.4"
  }
 },
 "nbformat": 4,
 "nbformat_minor": 5
}
