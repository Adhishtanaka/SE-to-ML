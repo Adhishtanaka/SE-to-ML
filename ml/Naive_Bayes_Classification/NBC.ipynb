{
 "cells": [
  {
   "cell_type": "markdown",
   "id": "ecd0035d",
   "metadata": {},
   "source": [
    "### Naive Bayes Classifier\n",
    "\n",
    "Naive Bayes is a **supervised machine learning algorithm** based on applying **Bayes' Theorem** with a strong (naive) assumption of **independence between features**. It calculates the probability of each class given the input features and predicts the class with the highest posterior probability. Despite its simplicity, Naive Bayes can often perform surprisingly well, especially in high-dimensional datasets.this is widely used in **text classification** problems such as **spam filtering**, **sentiment analysis**, and **document categorization**. It's also suitable for medical diagnosis, recommendation systems, and any scenario where speed and scalability are more important than absolute predictive accuracy.\n",
    "\n",
    "**Pros:**\n",
    "- Very fast and efficient, especially on large datasets.\n",
    "- Performs well with high-dimensional data (e.g., text data).\n",
    "- Easy to implement and interpret.\n",
    "- Requires less training data compared to more complex models.\n",
    "\n",
    "**Cons:**\n",
    "- Assumes feature independence, which is rarely true in real-world data.\n",
    "- May perform poorly when features are highly correlated.\n",
    "- Doesn’t work well with continuous variables unless Gaussian or binning assumptions are applied."
   ]
  },
  {
   "cell_type": "code",
   "execution_count": 3,
   "id": "6886c218",
   "metadata": {},
   "outputs": [
    {
     "name": "stdout",
     "output_type": "stream",
     "text": [
      "Note: you may need to restart the kernel to use updated packages.\n"
     ]
    },
    {
     "name": "stderr",
     "output_type": "stream",
     "text": [
      "\n",
      "[notice] A new release of pip is available: 24.3.1 -> 25.1\n",
      "[notice] To update, run: python.exe -m pip install --upgrade pip\n"
     ]
    }
   ],
   "source": [
    "%pip install --quiet pandas numpy matplotlib seaborn scikit-learn\n",
    "\n",
    "\n",
    "import pandas as pd\n",
    "import matplotlib.pyplot as plt\n",
    "import seaborn as sns"
   ]
  },
  {
   "cell_type": "code",
   "execution_count": 4,
   "id": "d6071736",
   "metadata": {},
   "outputs": [
    {
     "name": "stdout",
     "output_type": "stream",
     "text": [
      "Accuracy: 1.0\n",
      "Classification Report:\n",
      "               precision    recall  f1-score   support\n",
      "\n",
      "           0       1.00      1.00      1.00        10\n",
      "           1       1.00      1.00      1.00         9\n",
      "           2       1.00      1.00      1.00        11\n",
      "\n",
      "    accuracy                           1.00        30\n",
      "   macro avg       1.00      1.00      1.00        30\n",
      "weighted avg       1.00      1.00      1.00        30\n",
      "\n"
     ]
    }
   ],
   "source": [
    "from sklearn.datasets import load_iris\n",
    "from sklearn.model_selection import train_test_split\n",
    "from sklearn.naive_bayes import GaussianNB\n",
    "from sklearn.metrics import accuracy_score, classification_report\n",
    "\n",
    "X, y = load_iris(return_X_y=True)\n",
    "X_train, X_test, y_train, y_test = train_test_split(X, y, test_size=0.2, random_state=42)\n",
    "model = GaussianNB()\n",
    "model.fit(X_train, y_train)\n",
    "y_pred = model.predict(X_test)\n",
    "\n",
    "print(\"Accuracy:\", accuracy_score(y_test, y_pred))\n",
    "print(\"Classification Report:\\n\", classification_report(y_test, y_pred))\n"
   ]
  }
 ],
 "metadata": {
  "kernelspec": {
   "display_name": "Python 3",
   "language": "python",
   "name": "python3"
  },
  "language_info": {
   "codemirror_mode": {
    "name": "ipython",
    "version": 3
   },
   "file_extension": ".py",
   "mimetype": "text/x-python",
   "name": "python",
   "nbconvert_exporter": "python",
   "pygments_lexer": "ipython3",
   "version": "3.12.4"
  }
 },
 "nbformat": 4,
 "nbformat_minor": 5
}
