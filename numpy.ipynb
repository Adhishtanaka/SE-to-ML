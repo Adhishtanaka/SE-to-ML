{
 "cells": [
  {
   "cell_type": "code",
   "execution_count": 1,
   "id": "8846f733",
   "metadata": {},
   "outputs": [
    {
     "name": "stdout",
     "output_type": "stream",
     "text": [
      "Requirement already satisfied: numpy in c:\\users\\kulas\\appdata\\local\\programs\\python\\python312\\lib\\site-packages (1.26.4)\n",
      "Note: you may need to restart the kernel to use updated packages.\n"
     ]
    },
    {
     "name": "stderr",
     "output_type": "stream",
     "text": [
      "\n",
      "[notice] A new release of pip is available: 24.3.1 -> 25.1\n",
      "[notice] To update, run: python.exe -m pip install --upgrade pip\n"
     ]
    }
   ],
   "source": [
    "%pip install numpy\n",
    "import numpy as np"
   ]
  },
  {
   "cell_type": "code",
   "execution_count": null,
   "id": "153f36ae",
   "metadata": {},
   "outputs": [
    {
     "data": {
      "text/plain": [
       "array([1, 2, 3])"
      ]
     },
     "execution_count": 12,
     "metadata": {},
     "output_type": "execute_result"
    }
   ],
   "source": [
    "a = [1,2,3]\n",
    "np.array(a)\n",
    "# The above code will create a numpy array from a list and display it."
   ]
  },
  {
   "cell_type": "code",
   "execution_count": 13,
   "id": "8030af78",
   "metadata": {},
   "outputs": [
    {
     "data": {
      "text/plain": [
       "array([ 1,  2,  3,  4,  5,  6,  7,  8,  9, 10])"
      ]
     },
     "execution_count": 13,
     "metadata": {},
     "output_type": "execute_result"
    }
   ],
   "source": [
    "np.arange(1,11)\n",
    "# The above code will create a numpy array with values from 1 to 10."
   ]
  },
  {
   "cell_type": "code",
   "execution_count": 14,
   "id": "f588d41b",
   "metadata": {},
   "outputs": [
    {
     "data": {
      "text/plain": [
       "array([1, 3, 5, 7, 9])"
      ]
     },
     "execution_count": 14,
     "metadata": {},
     "output_type": "execute_result"
    }
   ],
   "source": [
    "\n",
    "np.arange(1,11,2)\n",
    "# The above code will create a numpy array with values from 1 to 10 with a step of 2."
   ]
  },
  {
   "cell_type": "code",
   "execution_count": 15,
   "id": "57f35ad8",
   "metadata": {},
   "outputs": [
    {
     "data": {
      "text/plain": [
       "array([[0., 0., 0., 0.],\n",
       "       [0., 0., 0., 0.],\n",
       "       [0., 0., 0., 0.]])"
      ]
     },
     "execution_count": 15,
     "metadata": {},
     "output_type": "execute_result"
    }
   ],
   "source": [
    "np.zeros((3,4))\n",
    "# The above code will create a 3x4 numpy array filled with zeros."
   ]
  },
  {
   "cell_type": "code",
   "execution_count": 16,
   "id": "a2eaf5ce",
   "metadata": {},
   "outputs": [
    {
     "data": {
      "text/plain": [
       "array([[1., 1., 1., 1.],\n",
       "       [1., 1., 1., 1.],\n",
       "       [1., 1., 1., 1.]])"
      ]
     },
     "execution_count": 16,
     "metadata": {},
     "output_type": "execute_result"
    }
   ],
   "source": [
    "np.ones((3,4))\n",
    "# The above code will create a 3x4 numpy array filled with ones."
   ]
  },
  {
   "cell_type": "code",
   "execution_count": 2,
   "id": "ef0f36c5",
   "metadata": {},
   "outputs": [
    {
     "data": {
      "text/plain": [
       "array([ 1.  ,  3.25,  5.5 ,  7.75, 10.  ])"
      ]
     },
     "execution_count": 2,
     "metadata": {},
     "output_type": "execute_result"
    }
   ],
   "source": [
    "np.linspace(1,10,5)\n",
    "# The above code will create a numpy array with 5 evenly spaced values between 1 and 10. "
   ]
  },
  {
   "cell_type": "code",
   "execution_count": 3,
   "id": "49490f87",
   "metadata": {},
   "outputs": [
    {
     "data": {
      "text/plain": [
       "array([[1., 0., 0., 0., 0.],\n",
       "       [0., 1., 0., 0., 0.],\n",
       "       [0., 0., 1., 0., 0.],\n",
       "       [0., 0., 0., 1., 0.],\n",
       "       [0., 0., 0., 0., 1.]])"
      ]
     },
     "execution_count": 3,
     "metadata": {},
     "output_type": "execute_result"
    }
   ],
   "source": [
    "np.eye(5)\n",
    "# The above code will create a 5x5 identity matrix."
   ]
  },
  {
   "cell_type": "code",
   "execution_count": 4,
   "id": "62a94040",
   "metadata": {},
   "outputs": [
    {
     "data": {
      "text/plain": [
       "array([[0.90130922, 0.54469701, 0.39737879, 0.93593505],\n",
       "       [0.57100909, 0.96863685, 0.32020063, 0.80137341],\n",
       "       [0.7646717 , 0.83519172, 0.10669165, 0.80728924]])"
      ]
     },
     "execution_count": 4,
     "metadata": {},
     "output_type": "execute_result"
    }
   ],
   "source": [
    "np.random.rand(3,4)\n",
    "# The above code will create a 3x4 numpy array with random values between 0 and 1."
   ]
  },
  {
   "cell_type": "code",
   "execution_count": 8,
   "id": "cf847c85",
   "metadata": {},
   "outputs": [
    {
     "data": {
      "text/plain": [
       "array([24, 22, 14,  9,  8, 28, 25, 22,  5, 21, 31, 17, 34, 10, 17,  1, 14,\n",
       "       27, 29,  3])"
      ]
     },
     "execution_count": 8,
     "metadata": {},
     "output_type": "execute_result"
    }
   ],
   "source": [
    "y = np.random.randint(1,40,20)\n",
    "# The above code will create a numpy array with 5 random integers between 1 and 10.\n",
    "y"
   ]
  },
  {
   "cell_type": "code",
   "execution_count": 9,
   "id": "c34b7cef",
   "metadata": {},
   "outputs": [
    {
     "data": {
      "text/plain": [
       "array([[24, 22, 14,  9,  8],\n",
       "       [28, 25, 22,  5, 21],\n",
       "       [31, 17, 34, 10, 17],\n",
       "       [ 1, 14, 27, 29,  3]])"
      ]
     },
     "execution_count": 9,
     "metadata": {},
     "output_type": "execute_result"
    }
   ],
   "source": [
    "y.reshape(4,5)\n",
    "# The above code will reshape the numpy array y into a 4x5 array."
   ]
  },
  {
   "cell_type": "code",
   "execution_count": 10,
   "id": "629ef340",
   "metadata": {},
   "outputs": [
    {
     "data": {
      "text/plain": [
       "34"
      ]
     },
     "execution_count": 10,
     "metadata": {},
     "output_type": "execute_result"
    }
   ],
   "source": [
    "y.max()\n",
    "# The above code will return the maximum value in the numpy array y."
   ]
  },
  {
   "cell_type": "code",
   "execution_count": null,
   "id": "d1824b2b",
   "metadata": {},
   "outputs": [
    {
     "data": {
      "text/plain": [
       "5"
      ]
     },
     "execution_count": 11,
     "metadata": {},
     "output_type": "execute_result"
    }
   ],
   "source": [
    "y[8]\n",
    "# The above code will return the value at index 8 in the numpy array y."
   ]
  },
  {
   "cell_type": "code",
   "execution_count": 16,
   "id": "7168b5a4",
   "metadata": {},
   "outputs": [
    {
     "data": {
      "text/plain": [
       "array([ 9,  8, 28, 25])"
      ]
     },
     "execution_count": 16,
     "metadata": {},
     "output_type": "execute_result"
    }
   ],
   "source": [
    "x = y[3:7]\n",
    "x\n",
    "# The above code will return the values from index 3 to 6 in the numpy array y."
   ]
  },
  {
   "cell_type": "code",
   "execution_count": null,
   "id": "6432844c",
   "metadata": {},
   "outputs": [
    {
     "data": {
      "text/plain": [
       "array([99, 99, 99, 99])"
      ]
     },
     "execution_count": 18,
     "metadata": {},
     "output_type": "execute_result"
    }
   ],
   "source": [
    "x[:] = 99\n",
    "x\n",
    "# The above code will set all values in the numpy array x to 99."
   ]
  },
  {
   "cell_type": "code",
   "execution_count": 20,
   "id": "2f28ba61",
   "metadata": {},
   "outputs": [
    {
     "data": {
      "text/plain": [
       "array([[31, 17, 21, 30],\n",
       "       [18, 33, 23, 29],\n",
       "       [ 9,  1,  6,  3],\n",
       "       [38, 25, 33, 17]])"
      ]
     },
     "execution_count": 20,
     "metadata": {},
     "output_type": "execute_result"
    }
   ],
   "source": [
    "ar_2d = np.random.randint(1,40,16).reshape(4,4)\n",
    "ar_2d"
   ]
  },
  {
   "cell_type": "code",
   "execution_count": null,
   "id": "a7013e65",
   "metadata": {},
   "outputs": [
    {
     "data": {
      "text/plain": [
       "array([[ True, False,  True,  True],\n",
       "       [False,  True,  True,  True],\n",
       "       [False, False, False, False],\n",
       "       [ True,  True,  True, False]])"
      ]
     },
     "execution_count": 25,
     "metadata": {},
     "output_type": "execute_result"
    }
   ],
   "source": [
    "arr = ar_2d > 20\n",
    "arr\n",
    "# The above code will create a boolean array where each element is True if the corresponding element in ar_2d is greater than 20, and False otherwise."
   ]
  },
  {
   "cell_type": "code",
   "execution_count": null,
   "id": "d79ad522",
   "metadata": {},
   "outputs": [
    {
     "data": {
      "text/plain": [
       "33"
      ]
     },
     "execution_count": 22,
     "metadata": {},
     "output_type": "execute_result"
    }
   ],
   "source": [
    "ar_2d[1][1]\n",
    "# The above code will return the value at row 1, column 1 in the 2D numpy array ar_2d."
   ]
  },
  {
   "cell_type": "code",
   "execution_count": null,
   "id": "eaf7e387",
   "metadata": {},
   "outputs": [
    {
     "data": {
      "text/plain": [
       "array([[17, 21, 30],\n",
       "       [33, 23, 29]])"
      ]
     },
     "execution_count": 23,
     "metadata": {},
     "output_type": "execute_result"
    }
   ],
   "source": [
    "ar_2d[:2,1:]\n",
    "# The above code will return the values from row 0 to 1 and column 1 to 3 in the 2D numpy array ar_2d."
   ]
  },
  {
   "cell_type": "code",
   "execution_count": 28,
   "id": "60c088c9",
   "metadata": {},
   "outputs": [
    {
     "data": {
      "text/plain": [
       "array([[18,  9,  9, 17],\n",
       "       [10, 19, 14,  9],\n",
       "       [11,  4,  1, 17],\n",
       "       [13, 13, 19,  9]])"
      ]
     },
     "execution_count": 28,
     "metadata": {},
     "output_type": "execute_result"
    }
   ],
   "source": [
    "ar_2d_1 = np.random.randint(1,20,16).reshape(4,4)\n",
    "ar_2d_1"
   ]
  },
  {
   "cell_type": "code",
   "execution_count": null,
   "id": "77219f5c",
   "metadata": {},
   "outputs": [
    {
     "data": {
      "text/plain": [
       "array([[49, 26, 30, 47],\n",
       "       [28, 52, 37, 38],\n",
       "       [20,  5,  7, 20],\n",
       "       [51, 38, 52, 26]])"
      ]
     },
     "execution_count": 29,
     "metadata": {},
     "output_type": "execute_result"
    }
   ],
   "source": [
    "ar_2d + ar_2d_1\n",
    "# The above code will add the two 2D numpy arrays ar_2d and ar_2d_1 element-wise."
   ]
  },
  {
   "cell_type": "code",
   "execution_count": 32,
   "id": "54a65737",
   "metadata": {},
   "outputs": [
    {
     "data": {
      "text/plain": [
       "array([[558, 153, 189, 510],\n",
       "       [180, 627, 322, 261],\n",
       "       [ 99,   4,   6,  51],\n",
       "       [494, 325, 627, 153]])"
      ]
     },
     "execution_count": 32,
     "metadata": {},
     "output_type": "execute_result"
    }
   ],
   "source": [
    "ar_2d * ar_2d_1"
   ]
  },
  {
   "cell_type": "code",
   "execution_count": 33,
   "id": "36029544",
   "metadata": {},
   "outputs": [
    {
     "data": {
      "text/plain": [
       "array([[5.56776436, 4.12310563, 4.58257569, 5.47722558],\n",
       "       [4.24264069, 5.74456265, 4.79583152, 5.38516481],\n",
       "       [3.        , 1.        , 2.44948974, 1.73205081],\n",
       "       [6.164414  , 5.        , 5.74456265, 4.12310563]])"
      ]
     },
     "execution_count": 33,
     "metadata": {},
     "output_type": "execute_result"
    }
   ],
   "source": [
    "np.sqrt(ar_2d)\n",
    "# The above code will return the square root of each element in the 2D numpy array ar_2d."
   ]
  }
 ],
 "metadata": {
  "kernelspec": {
   "display_name": "Python 3",
   "language": "python",
   "name": "python3"
  },
  "language_info": {
   "codemirror_mode": {
    "name": "ipython",
    "version": 3
   },
   "file_extension": ".py",
   "mimetype": "text/x-python",
   "name": "python",
   "nbconvert_exporter": "python",
   "pygments_lexer": "ipython3",
   "version": "3.12.4"
  }
 },
 "nbformat": 4,
 "nbformat_minor": 5
}
